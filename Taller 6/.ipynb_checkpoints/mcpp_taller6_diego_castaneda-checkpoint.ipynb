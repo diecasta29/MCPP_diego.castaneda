{
 "cells": [
  {
   "cell_type": "markdown",
   "metadata": {},
   "source": [
    "# Taller 6\n",
    "Métodos Computacionales para Políticas Públicas - URosario\n",
    "\n",
    "**Entrega: viernes 30-sep-2016 11:59 PM**"
   ]
  },
  {
   "cell_type": "markdown",
   "metadata": {},
   "source": [
    "<div class=\"alert alert-success\">\n",
    "**Diego Castañeda Vega** <br><br>\n",
    "diego.castaneda@urosario.edu.co\n",
    "</div>"
   ]
  },
  {
   "cell_type": "markdown",
   "metadata": {},
   "source": [
    "## Instrucciones:\n",
    "- Guarde una copia de este *Jupyter Notebook* en su computador, idealmente en una carpeta destinada al material del curso.\n",
    "- Modifique el nombre del archivo del *notebook*, agregando al final un guión inferior y su nombre y apellido, separados estos últimos por otro guión inferior. Por ejemplo, mi *notebook* se llamaría: mcpp_taller6_santiago_matallana\n",
    "- Marque el *notebook* con su nombre y e-mail en el bloque verde arriba. Reemplace el texto \"[Su nombre acá]\" con su nombre y apellido. Similar para su e-mail.\n",
    "- Desarrolle la totalidad del taller sobre este *notebook*, insertando las celdas que sea necesario debajo de cada pregunta. Haga buen uso de las celdas para código y de las celdas tipo *markdown* según el caso.\n",
    "- Recuerde salvar periódicamente sus avances.\n",
    "- Cuando termine el taller:\n",
    "    1. Descárguelo en PDF. Si tiene algún problema con la conversión, descárguelo en HTML.\n",
    "    2. Suba todos los archivos a su repositorio en GitHub, en una carpeta destinada exclusivamente para este taller, antes de la fecha y hora límites.\n",
    "\n",
    "(Todos los ejercicios tienen el mismo valor.)"
   ]
  },
  {
   "cell_type": "markdown",
   "metadata": {},
   "source": [
    "---"
   ]
  },
  {
   "cell_type": "markdown",
   "metadata": {},
   "source": [
    "### Resuelva las partes 1 y 3 de [este documento](http://www.math.pitt.edu/~sussmanm/3040Summer14/exercisesII.pdf)."
   ]
  },
  {
   "cell_type": "markdown",
   "metadata": {},
   "source": [
    "# 1- Exercise: Numpy practice"
   ]
  },
  {
   "cell_type": "code",
   "execution_count": 1,
   "metadata": {
    "collapsed": true
   },
   "outputs": [],
   "source": [
    "import numpy as np"
   ]
  },
  {
   "cell_type": "markdown",
   "metadata": {},
   "source": [
    "### 1- Choose a value and set the variable x to that value."
   ]
  },
  {
   "cell_type": "code",
   "execution_count": 2,
   "metadata": {
    "collapsed": true
   },
   "outputs": [],
   "source": [
    "x = 5"
   ]
  },
  {
   "cell_type": "markdown",
   "metadata": {},
   "source": [
    "### 2- What is command to compute the square of x? Its cube?"
   ]
  },
  {
   "cell_type": "code",
   "execution_count": 3,
   "metadata": {
    "collapsed": false
   },
   "outputs": [
    {
     "data": {
      "text/plain": [
       "25"
      ]
     },
     "execution_count": 3,
     "metadata": {},
     "output_type": "execute_result"
    }
   ],
   "source": [
    "x**2"
   ]
  },
  {
   "cell_type": "code",
   "execution_count": 4,
   "metadata": {
    "collapsed": false
   },
   "outputs": [
    {
     "data": {
      "text/plain": [
       "125"
      ]
     },
     "execution_count": 4,
     "metadata": {},
     "output_type": "execute_result"
    }
   ],
   "source": [
    "x**3"
   ]
  },
  {
   "cell_type": "markdown",
   "metadata": {},
   "source": [
    "### 3- Choose an angle θ and set the variable theta to its value (a number)"
   ]
  },
  {
   "cell_type": "code",
   "execution_count": 11,
   "metadata": {
    "collapsed": true
   },
   "outputs": [],
   "source": [
    "theta = 45"
   ]
  },
  {
   "cell_type": "markdown",
   "metadata": {},
   "source": [
    "### 4- What is sin θ? cos θ? Angles can be measured in degrees or radians"
   ]
  },
  {
   "cell_type": "code",
   "execution_count": 9,
   "metadata": {
    "collapsed": false
   },
   "outputs": [
    {
     "data": {
      "text/plain": [
       "0.85090352453411844"
      ]
     },
     "execution_count": 9,
     "metadata": {},
     "output_type": "execute_result"
    }
   ],
   "source": [
    "np.sin(theta)"
   ]
  },
  {
   "cell_type": "markdown",
   "metadata": {},
   "source": [
    "En geometría el seno de un ángulo theta, en un triángulo rectángulo de ángulo theta, se define como la razón entre el cateto opuesto al ángulo y la hipotenusa"
   ]
  },
  {
   "cell_type": "code",
   "execution_count": 10,
   "metadata": {
    "collapsed": false
   },
   "outputs": [
    {
     "data": {
      "text/plain": [
       "0.52532198881772973"
      ]
     },
     "execution_count": 10,
     "metadata": {},
     "output_type": "execute_result"
    }
   ],
   "source": [
    "np.cos(theta)"
   ]
  },
  {
   "cell_type": "markdown",
   "metadata": {},
   "source": [
    "En geometría el coseno de un ángulo theta, en un triángulo rectángulo de ángulo theta, se define como la razón de la longitud del cateto adyacente al ángulo y la longitud de la hipotenusa."
   ]
  },
  {
   "cell_type": "markdown",
   "metadata": {},
   "source": [
    "### 5- Use the np.linspace function to create a row vector called meshPoints containing exactly      500 values with values evenly spaced between -1 and 1"
   ]
  },
  {
   "cell_type": "code",
   "execution_count": 22,
   "metadata": {
    "collapsed": false,
    "scrolled": true
   },
   "outputs": [
    {
     "data": {
      "text/plain": [
       "array([-1.        , -0.99599198, -0.99198397, -0.98797595, -0.98396794,\n",
       "       -0.97995992, -0.9759519 , -0.97194389, -0.96793587, -0.96392786,\n",
       "       -0.95991984, -0.95591182, -0.95190381, -0.94789579, -0.94388778,\n",
       "       -0.93987976, -0.93587174, -0.93186373, -0.92785571, -0.9238477 ,\n",
       "       -0.91983968, -0.91583166, -0.91182365, -0.90781563, -0.90380762,\n",
       "       -0.8997996 , -0.89579158, -0.89178357, -0.88777555, -0.88376754,\n",
       "       -0.87975952, -0.8757515 , -0.87174349, -0.86773547, -0.86372745,\n",
       "       -0.85971944, -0.85571142, -0.85170341, -0.84769539, -0.84368737,\n",
       "       -0.83967936, -0.83567134, -0.83166333, -0.82765531, -0.82364729,\n",
       "       -0.81963928, -0.81563126, -0.81162325, -0.80761523, -0.80360721,\n",
       "       -0.7995992 , -0.79559118, -0.79158317, -0.78757515, -0.78356713,\n",
       "       -0.77955912, -0.7755511 , -0.77154309, -0.76753507, -0.76352705,\n",
       "       -0.75951904, -0.75551102, -0.75150301, -0.74749499, -0.74348697,\n",
       "       -0.73947896, -0.73547094, -0.73146293, -0.72745491, -0.72344689,\n",
       "       -0.71943888, -0.71543086, -0.71142285, -0.70741483, -0.70340681,\n",
       "       -0.6993988 , -0.69539078, -0.69138277, -0.68737475, -0.68336673,\n",
       "       -0.67935872, -0.6753507 , -0.67134269, -0.66733467, -0.66332665,\n",
       "       -0.65931864, -0.65531062, -0.65130261, -0.64729459, -0.64328657,\n",
       "       -0.63927856, -0.63527054, -0.63126253, -0.62725451, -0.62324649,\n",
       "       -0.61923848, -0.61523046, -0.61122244, -0.60721443, -0.60320641,\n",
       "       -0.5991984 , -0.59519038, -0.59118236, -0.58717435, -0.58316633,\n",
       "       -0.57915832, -0.5751503 , -0.57114228, -0.56713427, -0.56312625,\n",
       "       -0.55911824, -0.55511022, -0.5511022 , -0.54709419, -0.54308617,\n",
       "       -0.53907816, -0.53507014, -0.53106212, -0.52705411, -0.52304609,\n",
       "       -0.51903808, -0.51503006, -0.51102204, -0.50701403, -0.50300601,\n",
       "       -0.498998  , -0.49498998, -0.49098196, -0.48697395, -0.48296593,\n",
       "       -0.47895792, -0.4749499 , -0.47094188, -0.46693387, -0.46292585,\n",
       "       -0.45891784, -0.45490982, -0.4509018 , -0.44689379, -0.44288577,\n",
       "       -0.43887776, -0.43486974, -0.43086172, -0.42685371, -0.42284569,\n",
       "       -0.41883768, -0.41482966, -0.41082164, -0.40681363, -0.40280561,\n",
       "       -0.3987976 , -0.39478958, -0.39078156, -0.38677355, -0.38276553,\n",
       "       -0.37875752, -0.3747495 , -0.37074148, -0.36673347, -0.36272545,\n",
       "       -0.35871743, -0.35470942, -0.3507014 , -0.34669339, -0.34268537,\n",
       "       -0.33867735, -0.33466934, -0.33066132, -0.32665331, -0.32264529,\n",
       "       -0.31863727, -0.31462926, -0.31062124, -0.30661323, -0.30260521,\n",
       "       -0.29859719, -0.29458918, -0.29058116, -0.28657315, -0.28256513,\n",
       "       -0.27855711, -0.2745491 , -0.27054108, -0.26653307, -0.26252505,\n",
       "       -0.25851703, -0.25450902, -0.250501  , -0.24649299, -0.24248497,\n",
       "       -0.23847695, -0.23446894, -0.23046092, -0.22645291, -0.22244489,\n",
       "       -0.21843687, -0.21442886, -0.21042084, -0.20641283, -0.20240481,\n",
       "       -0.19839679, -0.19438878, -0.19038076, -0.18637275, -0.18236473,\n",
       "       -0.17835671, -0.1743487 , -0.17034068, -0.16633267, -0.16232465,\n",
       "       -0.15831663, -0.15430862, -0.1503006 , -0.14629259, -0.14228457,\n",
       "       -0.13827655, -0.13426854, -0.13026052, -0.12625251, -0.12224449,\n",
       "       -0.11823647, -0.11422846, -0.11022044, -0.10621242, -0.10220441,\n",
       "       -0.09819639, -0.09418838, -0.09018036, -0.08617234, -0.08216433,\n",
       "       -0.07815631, -0.0741483 , -0.07014028, -0.06613226, -0.06212425,\n",
       "       -0.05811623, -0.05410822, -0.0501002 , -0.04609218, -0.04208417,\n",
       "       -0.03807615, -0.03406814, -0.03006012, -0.0260521 , -0.02204409,\n",
       "       -0.01803607, -0.01402806, -0.01002004, -0.00601202, -0.00200401,\n",
       "        0.00200401,  0.00601202,  0.01002004,  0.01402806,  0.01803607,\n",
       "        0.02204409,  0.0260521 ,  0.03006012,  0.03406814,  0.03807615,\n",
       "        0.04208417,  0.04609218,  0.0501002 ,  0.05410822,  0.05811623,\n",
       "        0.06212425,  0.06613226,  0.07014028,  0.0741483 ,  0.07815631,\n",
       "        0.08216433,  0.08617234,  0.09018036,  0.09418838,  0.09819639,\n",
       "        0.10220441,  0.10621242,  0.11022044,  0.11422846,  0.11823647,\n",
       "        0.12224449,  0.12625251,  0.13026052,  0.13426854,  0.13827655,\n",
       "        0.14228457,  0.14629259,  0.1503006 ,  0.15430862,  0.15831663,\n",
       "        0.16232465,  0.16633267,  0.17034068,  0.1743487 ,  0.17835671,\n",
       "        0.18236473,  0.18637275,  0.19038076,  0.19438878,  0.19839679,\n",
       "        0.20240481,  0.20641283,  0.21042084,  0.21442886,  0.21843687,\n",
       "        0.22244489,  0.22645291,  0.23046092,  0.23446894,  0.23847695,\n",
       "        0.24248497,  0.24649299,  0.250501  ,  0.25450902,  0.25851703,\n",
       "        0.26252505,  0.26653307,  0.27054108,  0.2745491 ,  0.27855711,\n",
       "        0.28256513,  0.28657315,  0.29058116,  0.29458918,  0.29859719,\n",
       "        0.30260521,  0.30661323,  0.31062124,  0.31462926,  0.31863727,\n",
       "        0.32264529,  0.32665331,  0.33066132,  0.33466934,  0.33867735,\n",
       "        0.34268537,  0.34669339,  0.3507014 ,  0.35470942,  0.35871743,\n",
       "        0.36272545,  0.36673347,  0.37074148,  0.3747495 ,  0.37875752,\n",
       "        0.38276553,  0.38677355,  0.39078156,  0.39478958,  0.3987976 ,\n",
       "        0.40280561,  0.40681363,  0.41082164,  0.41482966,  0.41883768,\n",
       "        0.42284569,  0.42685371,  0.43086172,  0.43486974,  0.43887776,\n",
       "        0.44288577,  0.44689379,  0.4509018 ,  0.45490982,  0.45891784,\n",
       "        0.46292585,  0.46693387,  0.47094188,  0.4749499 ,  0.47895792,\n",
       "        0.48296593,  0.48697395,  0.49098196,  0.49498998,  0.498998  ,\n",
       "        0.50300601,  0.50701403,  0.51102204,  0.51503006,  0.51903808,\n",
       "        0.52304609,  0.52705411,  0.53106212,  0.53507014,  0.53907816,\n",
       "        0.54308617,  0.54709419,  0.5511022 ,  0.55511022,  0.55911824,\n",
       "        0.56312625,  0.56713427,  0.57114228,  0.5751503 ,  0.57915832,\n",
       "        0.58316633,  0.58717435,  0.59118236,  0.59519038,  0.5991984 ,\n",
       "        0.60320641,  0.60721443,  0.61122244,  0.61523046,  0.61923848,\n",
       "        0.62324649,  0.62725451,  0.63126253,  0.63527054,  0.63927856,\n",
       "        0.64328657,  0.64729459,  0.65130261,  0.65531062,  0.65931864,\n",
       "        0.66332665,  0.66733467,  0.67134269,  0.6753507 ,  0.67935872,\n",
       "        0.68336673,  0.68737475,  0.69138277,  0.69539078,  0.6993988 ,\n",
       "        0.70340681,  0.70741483,  0.71142285,  0.71543086,  0.71943888,\n",
       "        0.72344689,  0.72745491,  0.73146293,  0.73547094,  0.73947896,\n",
       "        0.74348697,  0.74749499,  0.75150301,  0.75551102,  0.75951904,\n",
       "        0.76352705,  0.76753507,  0.77154309,  0.7755511 ,  0.77955912,\n",
       "        0.78356713,  0.78757515,  0.79158317,  0.79559118,  0.7995992 ,\n",
       "        0.80360721,  0.80761523,  0.81162325,  0.81563126,  0.81963928,\n",
       "        0.82364729,  0.82765531,  0.83166333,  0.83567134,  0.83967936,\n",
       "        0.84368737,  0.84769539,  0.85170341,  0.85571142,  0.85971944,\n",
       "        0.86372745,  0.86773547,  0.87174349,  0.8757515 ,  0.87975952,\n",
       "        0.88376754,  0.88777555,  0.89178357,  0.89579158,  0.8997996 ,\n",
       "        0.90380762,  0.90781563,  0.91182365,  0.91583166,  0.91983968,\n",
       "        0.9238477 ,  0.92785571,  0.93186373,  0.93587174,  0.93987976,\n",
       "        0.94388778,  0.94789579,  0.95190381,  0.95591182,  0.95991984,\n",
       "        0.96392786,  0.96793587,  0.97194389,  0.9759519 ,  0.97995992,\n",
       "        0.98396794,  0.98797595,  0.99198397,  0.99599198,  1.        ])"
      ]
     },
     "execution_count": 22,
     "metadata": {},
     "output_type": "execute_result"
    }
   ],
   "source": [
    "meshPoints = np.linspace(-1, 1,500)\n",
    "meshPoints"
   ]
  },
  {
   "cell_type": "markdown",
   "metadata": {},
   "source": [
    "### 6- What expression will yield the value of the 53th element of meshPoints? What is this value?\n"
   ]
  },
  {
   "cell_type": "code",
   "execution_count": 24,
   "metadata": {
    "collapsed": false
   },
   "outputs": [
    {
     "name": "stdout",
     "output_type": "stream",
     "text": [
      "-0.791583166333\n"
     ]
    }
   ],
   "source": [
    "print (meshPoints[52])"
   ]
  },
  {
   "cell_type": "markdown",
   "metadata": {},
   "source": [
    "### 7- Produce a plot of a sinusoid on the interval [−1, 1] using the command\n"
   ]
  },
  {
   "cell_type": "code",
   "execution_count": null,
   "metadata": {
    "collapsed": true
   },
   "outputs": [],
   "source": [
    "import matplotlib.pyplot as plt\n",
    "from numpy import pi"
   ]
  },
  {
   "cell_type": "code",
   "execution_count": 50,
   "metadata": {
    "collapsed": false
   },
   "outputs": [
    {
     "data": {
      "image/png": "[encoded data removed]",
      "text/plain": [
       "<matplotlib.figure.Figure at 0x23681ad3710>"
      ]
     },
     "metadata": {},
     "output_type": "display_data"
    }
   ],
   "source": [
    "plt.plot(meshPoints,np.sin(2*pi*meshPoints))\n",
    "plt.show()"
   ]
  },
  {
   "cell_type": "markdown",
   "metadata": {},
   "source": [
    "# 3- Exercise: Plotting"
   ]
  },
  {
   "cell_type": "markdown",
   "metadata": {},
   "source": [
    "###  1- Use matplotlib.pyplot.plot to produce a plot of the functions f(x) = e (− x/10) sin(πx) and g(x) = xe(−x/3) over the interval [0, 10]. Include labels for the x- and y-axes, and a legend explaining which line is which plot. Save the plot as a .jpg (“Jpeg”) file and send me a copy with your work."
   ]
  },
  {
   "cell_type": "code",
   "execution_count": 53,
   "metadata": {
    "collapsed": false,
    "scrolled": false
   },
   "outputs": [
    {
     "data": {
      "text/plain": [
       "[<matplotlib.lines.Line2D at 0x23681b5a780>]"
      ]
     },
     "execution_count": 53,
     "metadata": {},
     "output_type": "execute_result"
    },
    {
     "data": {
      "image/png": "[encoded data removed]",
      "text/plain": [
       "<matplotlib.figure.Figure at 0x23681b2bd68>"
      ]
     },
     "metadata": {},
     "output_type": "display_data"
    }
   ],
   "source": [
    "%matplotlib inline\n",
    "def f(x):\n",
    "    return (np.exp(-x/10))*(np.sin(pi*x))\n",
    "def g(x):\n",
    "    return x*(np.exp(-x/3))\n",
    "x = np.linspace(0,10,500)\n",
    "y = f(x)\n",
    "z = g(x)\n",
    "plt.xlabel(\"x\")\n",
    "plt.ylabel(\"f(x), g(x)\")\n",
    "plt.plot(x,y,label=\"f(x)\")\n",
    "plt.plot(x,z,label=\"g(x)\")"
   ]
  },
  {
   "cell_type": "markdown",
   "metadata": {},
   "source": [
    "### 2- The shape of a lima¸con can be defined parametrically as \n",
    "### r = r0 + cos θ\n",
    "### x = r cos θ\n",
    "### y = r sin θ\n",
    "### When r0 = 1, this curve is called a cardioid. Use this definition to plot the shape of a lima¸con for r0 = 0.8, r0 = 1.0, and r0 = 1.2. Be sure to use enough points that the curve is closed and appears smooth (except for the cusp in the cardioid). Use a legend to identify which curve is which. Save the plot as a .pdf file and send me a copy with your work."
   ]
  },
  {
   "cell_type": "code",
   "execution_count": 66,
   "metadata": {
    "collapsed": false
   },
   "outputs": [
    {
     "data": {
      "text/plain": [
       "[<matplotlib.lines.Line2D at 0x23681d37438>]"
      ]
     },
     "execution_count": 66,
     "metadata": {},
     "output_type": "execute_result"
    },
    {
     "data": {
      "image/png": "[encoded data removed]",
      "text/plain": [
       "<matplotlib.figure.Figure at 0x23681bdee48>"
      ]
     },
     "metadata": {},
     "output_type": "display_data"
    }
   ],
   "source": [
    "theta = 10\n",
    "def r(a):\n",
    "    return a + (np.cos(theta))\n",
    "def g(r):\n",
    "    return r * (np.cos(theta))\n",
    "def w(r):\n",
    "    return r * (np.sin(theta))\n",
    "a = np.arange(0.8,1.4,0.2)\n",
    "r = r(a)\n",
    "x = g(r)\n",
    "y = w(r)\n",
    "plt.plot(a,r)\n",
    "plt.plot(a,x)\n",
    "plt.plot(a,y)"
   ]
  },
  {
   "cell_type": "code",
   "execution_count": null,
   "metadata": {
    "collapsed": true
   },
   "outputs": [],
   "source": []
  }
 ],
 "metadata": {
  "anaconda-cloud": {},
  "kernelspec": {
   "display_name": "Python [Root]",
   "language": "python",
   "name": "Python [Root]"
  },
  "language_info": {
   "codemirror_mode": {
    "name": "ipython",
    "version": 3
   },
   "file_extension": ".py",
   "mimetype": "text/x-python",
   "name": "python",
   "nbconvert_exporter": "python",
   "pygments_lexer": "ipython3",
   "version": "3.5.2"
  }
 },
 "nbformat": 4,
 "nbformat_minor": 0
}
