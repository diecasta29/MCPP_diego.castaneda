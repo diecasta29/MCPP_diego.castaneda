{
 "cells": [
  {
   "cell_type": "markdown",
   "metadata": {},
   "source": [
    "# Taller 4\n",
    "Métodos Computacionales para Políticas Públicas - URosario\n",
    "\n",
    "**Entrega: viernes 2-sep-2016 11:59 PM**"
   ]
  },
  {
   "cell_type": "markdown",
   "metadata": {},
   "source": [
    "<div class=\"alert alert-success\">\n",
    "**Diego Castañeda** <br><br>\n",
    "diego.castaneda@urosario.edu.co\n",
    "</div>"
   ]
  },
  {
   "cell_type": "markdown",
   "metadata": {},
   "source": [
    "## Instrucciones:\n",
    "- Guarde una copia de este *Jupyter Notebook* en su computador, idealmente en una carpeta destinada al material del curso.\n",
    "- Modifique el nombre del archivo del *notebook*, agregando al final un guión inferior y su nombre y apellido, separados estos últimos por otro guión inferior. Por ejemplo, mi *notebook* se llamaría: mcpp_taller4_santiago_matallana\n",
    "- Marque el *notebook* con su nombre y e-mail en el bloque verde arriba. Reemplace el texto \"[Su nombre acá]\" con su nombre y apellido. Similar para su e-mail.\n",
    "- Desarrolle la totalidad del taller sobre este *notebook*, insertando las celdas que sea necesario debajo de cada pregunta. Haga buen uso de las celdas para código y de las celdas tipo *markdown* según el caso.\n",
    "- Recuerde salvar periódicamente sus avances.\n",
    "- Cuando termine el taller:\n",
    "    1. Descárguelo en PDF.\n",
    "    2. Suba los dos archivos (.pdf y .ipynb) a su repositorio en GitHub antes de la fecha y hora límites.\n",
    "\n",
    "(Todos los ejercicios tienen el mismo valor.)"
   ]
  },
  {
   "cell_type": "markdown",
   "metadata": {},
   "source": [
    "---"
   ]
  },
  {
   "cell_type": "markdown",
   "metadata": {},
   "source": [
    "## Zelle, Exercises 6.8 (p. 159):\n",
    "\n",
    "- True/False: 1-10\n",
    "- Multiple choice: 2, 3, 6, 7, 10\n",
    "- Programming Exercises: 1, 3, 4, 11, 12, 13"
   ]
  },
  {
   "cell_type": "markdown",
   "metadata": {},
   "source": [
    "## True/False: 1-10"
   ]
  },
  {
   "cell_type": "markdown",
   "metadata": {},
   "source": [
    "1 Programmers rarely define their own functions : False"
   ]
  },
  {
   "cell_type": "markdown",
   "metadata": {},
   "source": [
    "2 A function may only be called at one place in a program: False"
   ]
  },
  {
   "cell_type": "markdown",
   "metadata": {
    "collapsed": true
   },
   "source": [
    "3 Information can be passed into a function through parameters: True"
   ]
  },
  {
   "cell_type": "markdown",
   "metadata": {
    "collapsed": true
   },
   "source": [
    "4 Every Python function returns some value: False"
   ]
  },
  {
   "cell_type": "markdown",
   "metadata": {},
   "source": [
    "5 In Python, some parameters are passed by reference: True"
   ]
  },
  {
   "cell_type": "markdown",
   "metadata": {},
   "source": [
    "6 In Python, a function can return only one value: False"
   ]
  },
  {
   "cell_type": "markdown",
   "metadata": {},
   "source": [
    "7 Python functions can never modify a paramaeter: False"
   ]
  },
  {
   "cell_type": "markdown",
   "metadata": {},
   "source": [
    "8 One reason to use functions is to reduce code duplication: True"
   ]
  },
  {
   "cell_type": "markdown",
   "metadata": {},
   "source": [
    "9 Variables defined in a function are local to that function: True"
   ]
  },
  {
   "cell_type": "markdown",
   "metadata": {},
   "source": [
    "10 It´s a bad idea to define new functions if it makes a program longer: False"
   ]
  },
  {
   "cell_type": "markdown",
   "metadata": {},
   "source": [
    "## Multiple choice: 2, 3, 6, 7, 10"
   ]
  },
  {
   "cell_type": "markdown",
   "metadata": {},
   "source": [
    "2 A Phyton function definition begins with: b) caller"
   ]
  },
  {
   "cell_type": "markdown",
   "metadata": {},
   "source": [
    "3 A function can send output back to the program with a(n): a) return "
   ]
  },
  {
   "cell_type": "markdown",
   "metadata": {},
   "source": [
    "6 In Python, actual parameters are passed trhough functions: b) by reference"
   ]
  },
  {
   "cell_type": "markdown",
   "metadata": {},
   "source": [
    "7 Which of the following is not reason to use functions? d) to demonstrate intellectual superiority"
   ]
  },
  {
   "cell_type": "markdown",
   "metadata": {},
   "source": [
    "10 A function can modify the value of an actual parameter only if it´s: b) a list"
   ]
  },
  {
   "cell_type": "markdown",
   "metadata": {},
   "source": [
    "## Programming Exercises: 1, 3, 4, 11, 12, 13"
   ]
  },
  {
   "cell_type": "markdown",
   "metadata": {},
   "source": [
    "1 Write a program to print the lyrics of the song \"Old Mcdonald\". Your program should print the lyrics for five different anilmals, similar to the example verse below:"
   ]
  },
  {
   "cell_type": "code",
   "execution_count": 13,
   "metadata": {
    "collapsed": false,
    "scrolled": true
   },
   "outputs": [
    {
     "name": "stdout",
     "output_type": "stream",
     "text": [
      "Old Mcdonald had a farm, Ee-igh, Ee-igh, Oh!\n",
      "And on that farm he had a cow.\n",
      "with a moo, moo here and a moo, moo there\n",
      "Here a moo, there a moo, everywhere a moo, moo\n",
      "Old Mcdonald had a farm, Ee-igh, Ee-igh, Oh!\n",
      "\n",
      "Old Mcdonald had a farm, Ee-igh, Ee-igh, Oh!\n",
      "And on that farm he had a cat.\n",
      "with a miau, miau here and a miau, miau there\n",
      "Here a miau, there a miau, everywhere a miau, miau\n",
      "Old Mcdonald had a farm, Ee-igh, Ee-igh, Oh!\n",
      "\n",
      "Old Mcdonald had a farm, Ee-igh, Ee-igh, Oh!\n",
      "And on that farm he had a dog.\n",
      "with a gua, gua here and a gua, gua there\n",
      "Here a gua, there a gua, everywhere a gua, gua\n",
      "Old Mcdonald had a farm, Ee-igh, Ee-igh, Oh!\n",
      "\n",
      "Old Mcdonald had a farm, Ee-igh, Ee-igh, Oh!\n",
      "And on that farm he had a bird.\n",
      "with a flish, flish here and a flish, flish there\n",
      "Here a flish, there a flish, everywhere a flish, flish\n",
      "Old Mcdonald had a farm, Ee-igh, Ee-igh, Oh!\n",
      "\n",
      "Old Mcdonald had a farm, Ee-igh, Ee-igh, Oh!\n",
      "And on that farm he had a horse.\n",
      "with a blff, blff here and a blff, blff there\n",
      "Here a blff, there a blff, everywhere a blff, blff\n",
      "Old Mcdonald had a farm, Ee-igh, Ee-igh, Oh!\n"
     ]
    }
   ],
   "source": [
    "def old ():\n",
    "    print (\"Old Mcdonald had a farm, Ee-igh, Ee-igh, Oh!\")\n",
    "def sing (animal, call):\n",
    "    old ()\n",
    "    print (\"And on that farm he had a\", animal+\".\")\n",
    "    print (\"with a\", call+\",\", call, \"here and a\", call+\",\", call, \"there\")\n",
    "    print (\"Here a\", call+\",\",\"there a\", call+\",\",\"everywhere a\", call+\",\", call)\n",
    "    old ()\n",
    "def Mcdonald ():\n",
    "    sing (\"cow\", \"moo\")\n",
    "    print ()\n",
    "    sing (\"cat\", \"miau\")\n",
    "    print ()\n",
    "    sing (\"dog\", \"gua\")\n",
    "    print ()\n",
    "    sing (\"bird\", \"flish\")\n",
    "    print ()\n",
    "    sing (\"horse\", \"blff\")\n",
    "Mcdonald ()"
   ]
  },
  {
   "cell_type": "markdown",
   "metadata": {
    "collapsed": true
   },
   "source": [
    "3.. Write definitions for these functions:\n",
    "    - sphereArea (radius) Returns the surface area of a sphere having the given radius.\n",
    "    - sphereVolume (radius) Returns the volume of a sphere having the given radius."
   ]
  },
  {
   "cell_type": "code",
   "execution_count": 18,
   "metadata": {
    "collapsed": false
   },
   "outputs": [
    {
     "data": {
      "text/plain": [
       "(12, 7080)"
      ]
     },
     "execution_count": 18,
     "metadata": {},
     "output_type": "execute_result"
    }
   ],
   "source": [
    "def sphereArea (radius):\n",
    "    A = (4 * 3,1416 * (radius))\n",
    "    return A\n",
    "sphereArea (5)"
   ]
  },
  {
   "cell_type": "code",
   "execution_count": null,
   "metadata": {
    "collapsed": true
   },
   "outputs": [],
   "source": []
  }
 ],
 "metadata": {
  "anaconda-cloud": {},
  "kernelspec": {
   "display_name": "Python [Root]",
   "language": "python",
   "name": "Python [Root]"
  },
  "language_info": {
   "codemirror_mode": {
    "name": "ipython",
    "version": 3
   },
   "file_extension": ".py",
   "mimetype": "text/x-python",
   "name": "python",
   "nbconvert_exporter": "python",
   "pygments_lexer": "ipython3",
   "version": "3.5.2"
  }
 },
 "nbformat": 4,
 "nbformat_minor": 0
}
